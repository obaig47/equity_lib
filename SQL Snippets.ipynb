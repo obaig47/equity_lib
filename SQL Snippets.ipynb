{
 "cells": [
  {
   "cell_type": "markdown",
   "metadata": {
    "toc": true
   },
   "source": [
    "<h1>Table of Contents<span class=\"tocSkip\"></span></h1>\n",
    "<div class=\"toc\"><ul class=\"toc-item\"><li><span><a href=\"#List-all-columns-in-Database\" data-toc-modified-id=\"List-all-columns-in-Database-1\"><span class=\"toc-item-num\">1&nbsp;&nbsp;</span>List all columns in Database</a></span></li><li><span><a href=\"#List-all-tables-with-a-specific-column\" data-toc-modified-id=\"List-all-tables-with-a-specific-column-2\"><span class=\"toc-item-num\">2&nbsp;&nbsp;</span>List all tables with a specific column</a></span></li><li><span><a href=\"#Summary-of-all-foreign-key-constraints\" data-toc-modified-id=\"Summary-of-all-foreign-key-constraints-3\"><span class=\"toc-item-num\">3&nbsp;&nbsp;</span>Summary of all foreign key constraints</a></span></li><li><span><a href=\"#Query-on-the-system-catalog-views,-you-can-get-a-list-of-all-FK-relationships-and-how-the-link-two-tables-(and-what-columns-they-operate-on)\" data-toc-modified-id=\"Query-on-the-system-catalog-views,-you-can-get-a-list-of-all-FK-relationships-and-how-the-link-two-tables-(and-what-columns-they-operate-on)-4\"><span class=\"toc-item-num\">4&nbsp;&nbsp;</span>Query on the system catalog views, you can get a list of all FK relationships and how the link two tables (and what columns they operate on)</a></span></li><li><span><a href=\"#Data-Dictionary-Queries\" data-toc-modified-id=\"Data-Dictionary-Queries-5\"><span class=\"toc-item-num\">5&nbsp;&nbsp;</span>Data Dictionary Queries</a></span></li></ul></div>"
   ]
  },
  {
   "cell_type": "markdown",
   "metadata": {},
   "source": [
    "# List all columns in Database"
   ]
  },
  {
   "cell_type": "code",
   "execution_count": null,
   "metadata": {},
   "outputs": [],
   "source": [
    "select schema_name(tab.schema_id) as schema_name,\n",
    "    tab.name as table_name, \n",
    "    col.column_id,\n",
    "    col.name as column_name, \n",
    "    t.name as data_type,    \n",
    "    col.max_length,\n",
    "    col.precision\n",
    "from sys.tables as tab\n",
    "    inner join sys.columns as col\n",
    "        on tab.object_id = col.object_id\n",
    "    left join sys.types as t\n",
    "    on col.user_type_id = t.user_type_id\n",
    "order by schema_name,\n",
    "    table_name, \n",
    "    column_id;"
   ]
  },
  {
   "cell_type": "markdown",
   "metadata": {},
   "source": [
    "# List all tables with a specific column"
   ]
  },
  {
   "cell_type": "code",
   "execution_count": null,
   "metadata": {},
   "outputs": [],
   "source": [
    "SELECT c.name AS ColName, t.name AS TableName\n",
    "FROM sys.columns c\n",
    "    JOIN sys.tables t ON c.object_id = t.object_id\n",
    "WHERE c.name LIKE '%COLUMN_NAME_HERE%';"
   ]
  },
  {
   "cell_type": "markdown",
   "metadata": {},
   "source": [
    "# Summary of all foreign key constraints"
   ]
  },
  {
   "cell_type": "code",
   "execution_count": null,
   "metadata": {},
   "outputs": [],
   "source": [
    "\"SELECT\n",
    "    c.CONSTRAINT_NAME,\n",
    "    cu.TABLE_NAME AS ReferencingTable, cu.COLUMN_NAME AS ReferencingColumn,\n",
    "    ku.TABLE_NAME AS ReferencedTable, ku.COLUMN_NAME AS ReferencedColumn\n",
    "FROM INFORMATION_SCHEMA.REFERENTIAL_CONSTRAINTS c\n",
    "INNER JOIN INFORMATION_SCHEMA.CONSTRAINT_COLUMN_USAGE cu\n",
    "ON cu.CONSTRAINT_NAME = c.CONSTRAINT_NAME\n",
    "INNER JOIN INFORMATION_SCHEMA.KEY_COLUMN_USAGE ku\n",
    "ON ku.CONSTRAINT_NAME = c.UNIQUE_CONSTRAINT_NAME\"\n"
   ]
  },
  {
   "cell_type": "code",
   "execution_count": null,
   "metadata": {},
   "outputs": [],
   "source": [
    "select schema_name(tab.schema_id) as [schema_name], \n",
    "    pk.[name] as pk_name,\n",
    "    substring(column_names, 1, len(column_names)-1) as [columns],\n",
    "    tab.[name] as table_name\n",
    "from sys.tables tab\n",
    "    inner join sys.indexes pk\n",
    "        on tab.object_id = pk.object_id \n",
    "        and pk.is_primary_key = 1\n",
    "   cross apply (select col.[name] + ', '\n",
    "                    from sys.index_columns ic\n",
    "                        inner join sys.columns col\n",
    "                            on ic.object_id = col.object_id\n",
    "                            and ic.column_id = col.column_id\n",
    "                    where ic.object_id = tab.object_id\n",
    "                        and ic.index_id = pk.index_id\n",
    "                            order by col.column_id\n",
    "                            for xml path ('') ) D (column_names)\n",
    "order by schema_name(tab.schema_id),\n",
    "    pk.[name]"
   ]
  },
  {
   "cell_type": "markdown",
   "metadata": {},
   "source": [
    "# Query on the system catalog views, you can get a list of all FK relationships and how the link two tables (and what columns they operate on)"
   ]
  },
  {
   "cell_type": "code",
   "execution_count": null,
   "metadata": {},
   "outputs": [],
   "source": [
    "SELECT\n",
    "    fk.name 'FK Name',\n",
    "    tp.name 'Parent table',\n",
    "    cp.name, cp.column_id,\n",
    "    tr.name 'Refrenced table',\n",
    "    cr.name, cr.column_id\n",
    "FROM \n",
    "    sys.foreign_keys fk\n",
    "INNER JOIN \n",
    "    sys.tables tp ON fk.parent_object_id = tp.object_id\n",
    "INNER JOIN \n",
    "    sys.tables tr ON fk.referenced_object_id = tr.object_id\n",
    "INNER JOIN \n",
    "    sys.foreign_key_columns fkc ON fkc.constraint_object_id = fk.object_id\n",
    "INNER JOIN \n",
    "    sys.columns cp ON fkc.parent_column_id = cp.column_id AND fkc.parent_object_id = cp.object_id\n",
    "INNER JOIN \n",
    "    sys.columns cr ON fkc.referenced_column_id = cr.column_id AND fkc.referenced_object_id = cr.object_id\n",
    "ORDER BY\n",
    "    tp.name, cp.column_id"
   ]
  },
  {
   "cell_type": "markdown",
   "metadata": {},
   "source": [
    "# Data Dictionary Queries"
   ]
  },
  {
   "cell_type": "code",
   "execution_count": null,
   "metadata": {},
   "outputs": [],
   "source": [
    "https://dataedo.com/blog/useful-sql-server-data-dictionary-queries-every-dba-should-have"
   ]
  }
 ],
 "metadata": {
  "kernelspec": {
   "display_name": "Python 3",
   "language": "python",
   "name": "python3"
  },
  "language_info": {
   "codemirror_mode": {
    "name": "ipython",
    "version": 3
   },
   "file_extension": ".py",
   "mimetype": "text/x-python",
   "name": "python",
   "nbconvert_exporter": "python",
   "pygments_lexer": "ipython3",
   "version": "3.7.3"
  },
  "toc": {
   "base_numbering": 1,
   "nav_menu": {},
   "number_sections": true,
   "sideBar": true,
   "skip_h1_title": false,
   "title_cell": "Table of Contents",
   "title_sidebar": "Contents",
   "toc_cell": true,
   "toc_position": {},
   "toc_section_display": true,
   "toc_window_display": false
  }
 },
 "nbformat": 4,
 "nbformat_minor": 2
}
